{
 "cells": [
  {
   "cell_type": "markdown",
   "id": "89bcfebd",
   "metadata": {
    "id": "89bcfebd"
   },
   "source": [
    "# Customer Segmentation and Analysis"
   ]
  },
  {
   "cell_type": "markdown",
   "id": "4548073d",
   "metadata": {
    "id": "4548073d"
   },
   "source": [
    "Steps to solve the problem :\n",
    "\n",
    "*   Importing Libraries.\n",
    "*   Exploration of data.\n",
    "*   Data Visualization.\n",
    "*   Clustering using K-Means: \n",
    "    - Segmentation using Age and Spending Score,\n",
    "    - Segmentation using Average Income and Spending Score\n",
    "*   Selection of Clusters.\n",
    "*   Ploting the Cluster Boundry and Clusters.\n",
    "*   3D Plot of Clusters.\n",
    "\n"
   ]
  },
  {
   "cell_type": "markdown",
   "id": "c559a034",
   "metadata": {
    "id": "c559a034"
   },
   "source": [
    "## Importing Libraries"
   ]
  },
  {
   "cell_type": "code",
   "execution_count": null,
   "id": "b526c6aa",
   "metadata": {
    "executionInfo": {
     "elapsed": 669,
     "status": "ok",
     "timestamp": 1623515518017,
     "user": {
      "displayName": "Amit Timalsina",
      "photoUrl": "https://lh3.googleusercontent.com/a-/AOh14GgempZZ7iJ_nUzQBQKA95czlIQZwhoq2bb1x5i5=s64",
      "userId": "08399804656288868898"
     },
     "user_tz": -345
    },
    "id": "b526c6aa"
   },
   "outputs": [],
   "source": [
    "import os # provides functions for interacting with the operating system\n",
    "import numpy as np # for numerical computing in Python\n",
    "import pandas as pd # for data processing\n",
    "import matplotlib.pyplot as plt # plotting library for the Python\n",
    "import seaborn as sns #for making statistical graphics in Python, built on top of Python\n",
    "from sklearn.cluster import KMeans"
   ]
  },
  {
   "cell_type": "markdown",
   "id": "47f5fb53",
   "metadata": {
    "id": "47f5fb53"
   },
   "source": [
    "## Data Exploration (_Discover and Visualize the Data to Gain Insights_)"
   ]
  },
  {
   "cell_type": "code",
   "execution_count": null,
   "id": "e3f14efa",
   "metadata": {
    "colab": {
     "base_uri": "https://localhost:8080/"
    },
    "executionInfo": {
     "elapsed": 47,
     "status": "ok",
     "timestamp": 1623515518732,
     "user": {
      "displayName": "Amit Timalsina",
      "photoUrl": "https://lh3.googleusercontent.com/a-/AOh14GgempZZ7iJ_nUzQBQKA95czlIQZwhoq2bb1x5i5=s64",
      "userId": "08399804656288868898"
     },
     "user_tz": -345
    },
    "id": "e3f14efa",
    "outputId": "07b7574b-fb11-4b52-ea02-04cb4cda055f"
   },
   "outputs": [],
   "source": [
    "!wget -O MallCustomers.csv https://sagemaker-studio-591933579993-hqmmz6xgv3m.s3.amazonaws.com/Mall_Customers.csv"
   ]
  },
  {
   "cell_type": "code",
   "execution_count": null,
   "id": "CRYeiNGYTba1",
   "metadata": {
    "colab": {
     "base_uri": "https://localhost:8080/"
    },
    "executionInfo": {
     "elapsed": 37,
     "status": "ok",
     "timestamp": 1623515518733,
     "user": {
      "displayName": "Amit Timalsina",
      "photoUrl": "https://lh3.googleusercontent.com/a-/AOh14GgempZZ7iJ_nUzQBQKA95czlIQZwhoq2bb1x5i5=s64",
      "userId": "08399804656288868898"
     },
     "user_tz": -345
    },
    "id": "CRYeiNGYTba1",
    "outputId": "883c0af1-5c16-43c7-f8d1-951e4439d14d"
   },
   "outputs": [],
   "source": [
    "!ls"
   ]
  },
  {
   "cell_type": "code",
   "execution_count": null,
   "id": "9ef3ceda",
   "metadata": {
    "colab": {
     "base_uri": "https://localhost:8080/",
     "height": 206
    },
    "executionInfo": {
     "elapsed": 27,
     "status": "ok",
     "timestamp": 1623515518734,
     "user": {
      "displayName": "Amit Timalsina",
      "photoUrl": "https://lh3.googleusercontent.com/a-/AOh14GgempZZ7iJ_nUzQBQKA95czlIQZwhoq2bb1x5i5=s64",
      "userId": "08399804656288868898"
     },
     "user_tz": -345
    },
    "id": "9ef3ceda",
    "outputId": "3787b617-c434-4315-a571-9560d9cff869"
   },
   "outputs": [],
   "source": [
    "df = pd.read_csv('MallCustomers.csv')\n",
    "df.head()"
   ]
  },
  {
   "cell_type": "code",
   "execution_count": null,
   "id": "45689232",
   "metadata": {
    "colab": {
     "base_uri": "https://localhost:8080/"
    },
    "executionInfo": {
     "elapsed": 23,
     "status": "ok",
     "timestamp": 1623515518735,
     "user": {
      "displayName": "Amit Timalsina",
      "photoUrl": "https://lh3.googleusercontent.com/a-/AOh14GgempZZ7iJ_nUzQBQKA95czlIQZwhoq2bb1x5i5=s64",
      "userId": "08399804656288868898"
     },
     "user_tz": -345
    },
    "id": "45689232",
    "outputId": "e7c70873-bde4-4318-c99a-d19fca7ce5ce"
   },
   "outputs": [],
   "source": [
    "df.info()"
   ]
  },
  {
   "cell_type": "code",
   "execution_count": null,
   "id": "64c54009",
   "metadata": {
    "colab": {
     "base_uri": "https://localhost:8080/",
     "height": 301
    },
    "executionInfo": {
     "elapsed": 542,
     "status": "ok",
     "timestamp": 1623515519260,
     "user": {
      "displayName": "Amit Timalsina",
      "photoUrl": "https://lh3.googleusercontent.com/a-/AOh14GgempZZ7iJ_nUzQBQKA95czlIQZwhoq2bb1x5i5=s64",
      "userId": "08399804656288868898"
     },
     "user_tz": -345
    },
    "id": "64c54009",
    "outputId": "70c38c4f-8540-459b-a81e-ca8012b07962"
   },
   "outputs": [],
   "source": [
    "df.describe()"
   ]
  },
  {
   "cell_type": "code",
   "execution_count": null,
   "id": "14d7c135",
   "metadata": {
    "colab": {
     "base_uri": "https://localhost:8080/"
    },
    "executionInfo": {
     "elapsed": 42,
     "status": "ok",
     "timestamp": 1623515519262,
     "user": {
      "displayName": "Amit Timalsina",
      "photoUrl": "https://lh3.googleusercontent.com/a-/AOh14GgempZZ7iJ_nUzQBQKA95czlIQZwhoq2bb1x5i5=s64",
      "userId": "08399804656288868898"
     },
     "user_tz": -345
    },
    "id": "14d7c135",
    "outputId": "5d56cbc9-9c79-41e7-cc11-08664f8a456a"
   },
   "outputs": [],
   "source": [
    "df.shape"
   ]
  },
  {
   "cell_type": "code",
   "execution_count": null,
   "id": "08e6f6b2",
   "metadata": {
    "colab": {
     "base_uri": "https://localhost:8080/"
    },
    "executionInfo": {
     "elapsed": 38,
     "status": "ok",
     "timestamp": 1623515519263,
     "user": {
      "displayName": "Amit Timalsina",
      "photoUrl": "https://lh3.googleusercontent.com/a-/AOh14GgempZZ7iJ_nUzQBQKA95czlIQZwhoq2bb1x5i5=s64",
      "userId": "08399804656288868898"
     },
     "user_tz": -345
    },
    "id": "08e6f6b2",
    "outputId": "bed7c09c-4b49-4a05-eee8-2778667f7dec"
   },
   "outputs": [],
   "source": [
    "df.dtypes"
   ]
  },
  {
   "cell_type": "code",
   "execution_count": null,
   "id": "qa-CQCJ-cbkO",
   "metadata": {
    "colab": {
     "base_uri": "https://localhost:8080/"
    },
    "executionInfo": {
     "elapsed": 34,
     "status": "ok",
     "timestamp": 1623515519264,
     "user": {
      "displayName": "Amit Timalsina",
      "photoUrl": "https://lh3.googleusercontent.com/a-/AOh14GgempZZ7iJ_nUzQBQKA95czlIQZwhoq2bb1x5i5=s64",
      "userId": "08399804656288868898"
     },
     "user_tz": -345
    },
    "id": "qa-CQCJ-cbkO",
    "outputId": "548a1e72-84c4-4d3c-a162-af754eee9e4d"
   },
   "outputs": [],
   "source": [
    "df.Gender.isin(['Male']).value_counts()"
   ]
  },
  {
   "cell_type": "code",
   "execution_count": null,
   "id": "d3c39933",
   "metadata": {
    "colab": {
     "base_uri": "https://localhost:8080/"
    },
    "executionInfo": {
     "elapsed": 32,
     "status": "ok",
     "timestamp": 1623515519266,
     "user": {
      "displayName": "Amit Timalsina",
      "photoUrl": "https://lh3.googleusercontent.com/a-/AOh14GgempZZ7iJ_nUzQBQKA95czlIQZwhoq2bb1x5i5=s64",
      "userId": "08399804656288868898"
     },
     "user_tz": -345
    },
    "id": "d3c39933",
    "outputId": "1e0222b3-1338-4834-ed56-ce1be5afef53"
   },
   "outputs": [],
   "source": [
    "df.isnull().sum(axis=0)"
   ]
  },
  {
   "cell_type": "markdown",
   "id": "1fbd1a49",
   "metadata": {
    "id": "1fbd1a49"
   },
   "source": [
    "## Data Visualization"
   ]
  },
  {
   "cell_type": "markdown",
   "id": "e6abbcd0",
   "metadata": {
    "id": "e6abbcd0"
   },
   "source": [
    "[For Style reference](https://matplotlib.org/stable/gallery/style_sheets/style_sheets_reference.html)"
   ]
  },
  {
   "cell_type": "code",
   "execution_count": null,
   "id": "99a5651c",
   "metadata": {
    "executionInfo": {
     "elapsed": 30,
     "status": "ok",
     "timestamp": 1623515519269,
     "user": {
      "displayName": "Amit Timalsina",
      "photoUrl": "https://lh3.googleusercontent.com/a-/AOh14GgempZZ7iJ_nUzQBQKA95czlIQZwhoq2bb1x5i5=s64",
      "userId": "08399804656288868898"
     },
     "user_tz": -345
    },
    "id": "99a5651c"
   },
   "outputs": [],
   "source": [
    "#plt.style.use('fivethirtyeight')"
   ]
  },
  {
   "cell_type": "code",
   "execution_count": null,
   "id": "U9dtWnumap2H",
   "metadata": {
    "executionInfo": {
     "elapsed": 28,
     "status": "ok",
     "timestamp": 1623515519270,
     "user": {
      "displayName": "Amit Timalsina",
      "photoUrl": "https://lh3.googleusercontent.com/a-/AOh14GgempZZ7iJ_nUzQBQKA95czlIQZwhoq2bb1x5i5=s64",
      "userId": "08399804656288868898"
     },
     "user_tz": -345
    },
    "id": "U9dtWnumap2H"
   },
   "outputs": [],
   "source": [
    "plt.style.use('default')"
   ]
  },
  {
   "cell_type": "markdown",
   "id": "24c17738",
   "metadata": {
    "id": "24c17738"
   },
   "source": [
    "### **Histograms**"
   ]
  },
  {
   "cell_type": "markdown",
   "id": "8dQdECc0aYlf",
   "metadata": {
    "id": "8dQdECc0aYlf"
   },
   "source": [
    "A histogram is a bar graph-like representation of data that buckets a range of outcomes into columns along the x-axis. The y-axis represents the number count or percentage of occurrences in the data for each column and can be used to visualize data distributions."
   ]
  },
  {
   "cell_type": "code",
   "execution_count": null,
   "id": "SuImuocr_NFu",
   "metadata": {
    "colab": {
     "base_uri": "https://localhost:8080/"
    },
    "executionInfo": {
     "elapsed": 28,
     "status": "ok",
     "timestamp": 1623515519271,
     "user": {
      "displayName": "Amit Timalsina",
      "photoUrl": "https://lh3.googleusercontent.com/a-/AOh14GgempZZ7iJ_nUzQBQKA95czlIQZwhoq2bb1x5i5=s64",
      "userId": "08399804656288868898"
     },
     "user_tz": -345
    },
    "id": "SuImuocr_NFu",
    "outputId": "3b2e7a0b-34b1-4ceb-d5ad-853846a6a2e8"
   },
   "outputs": [],
   "source": [
    "df.columns"
   ]
  },
  {
   "cell_type": "code",
   "execution_count": null,
   "id": "620ce1bd",
   "metadata": {
    "colab": {
     "base_uri": "https://localhost:8080/",
     "height": 488
    },
    "executionInfo": {
     "elapsed": 919,
     "status": "ok",
     "timestamp": 1623515520171,
     "user": {
      "displayName": "Amit Timalsina",
      "photoUrl": "https://lh3.googleusercontent.com/a-/AOh14GgempZZ7iJ_nUzQBQKA95czlIQZwhoq2bb1x5i5=s64",
      "userId": "08399804656288868898"
     },
     "user_tz": -345
    },
    "id": "620ce1bd",
    "outputId": "4a8f9a2d-392f-4f5d-9993-f1ff25984124"
   },
   "outputs": [],
   "source": [
    "plt.figure(1, figsize=(15, 5))\n",
    "n = 0\n",
    "for x in df.columns[2:]:\n",
    "    n += 1\n",
    "    plt.subplot(1, 3, n)\n",
    "    sns.histplot(df[x], bins=20)\n",
    "    plt.title('Histplot of {}'.format(x), fontsize=14)\n",
    "plt.subplots_adjust(wspace=0.3)\n",
    "plt.show()"
   ]
  },
  {
   "cell_type": "markdown",
   "id": "1j5HAwvvZKHA",
   "metadata": {
    "id": "1j5HAwvvZKHA"
   },
   "source": [
    "kde: If `True`, compute a kernel density estimate to smooth the distribution"
   ]
  },
  {
   "cell_type": "code",
   "execution_count": null,
   "id": "f7TorMqSb7fP",
   "metadata": {
    "colab": {
     "base_uri": "https://localhost:8080/",
     "height": 565
    },
    "executionInfo": {
     "elapsed": 1548,
     "status": "ok",
     "timestamp": 1623515521710,
     "user": {
      "displayName": "Amit Timalsina",
      "photoUrl": "https://lh3.googleusercontent.com/a-/AOh14GgempZZ7iJ_nUzQBQKA95czlIQZwhoq2bb1x5i5=s64",
      "userId": "08399804656288868898"
     },
     "user_tz": -345
    },
    "id": "f7TorMqSb7fP",
    "outputId": "c705a9c0-82f9-446f-e011-032b98841d87"
   },
   "outputs": [],
   "source": [
    "plt.figure(1, figsize=(15, 6))\n",
    "n = 0\n",
    "for x in df.columns[2:]:\n",
    "    n += 1\n",
    "    plt.subplot(1, 3, n)\n",
    "    plt.subplots_adjust(hspace=0.5)\n",
    "    sns.histplot(df[[x]], bins=20, kde=True)\n",
    "    plt.title('Smooth histplot of {}'.format(x), fontsize=14)\n",
    "plt.show()"
   ]
  },
  {
   "cell_type": "code",
   "execution_count": null,
   "id": "GV2Jp0VEb_C_",
   "metadata": {
    "colab": {
     "base_uri": "https://localhost:8080/",
     "height": 775
    },
    "executionInfo": {
     "elapsed": 4349,
     "status": "ok",
     "timestamp": 1623515526042,
     "user": {
      "displayName": "Amit Timalsina",
      "photoUrl": "https://lh3.googleusercontent.com/a-/AOh14GgempZZ7iJ_nUzQBQKA95czlIQZwhoq2bb1x5i5=s64",
      "userId": "08399804656288868898"
     },
     "user_tz": -345
    },
    "id": "GV2Jp0VEb_C_",
    "outputId": "c86adbf6-e811-4495-91fe-6878265dd655"
   },
   "outputs": [],
   "source": [
    "sns.pairplot(df[['Age','Annual Income (k$)','Spending Score (1-100)','Gender']],hue='Gender')"
   ]
  },
  {
   "cell_type": "code",
   "execution_count": null,
   "id": "eU684vs3XfWF",
   "metadata": {
    "colab": {
     "base_uri": "https://localhost:8080/",
     "height": 775
    },
    "executionInfo": {
     "elapsed": 4781,
     "status": "ok",
     "timestamp": 1623515530809,
     "user": {
      "displayName": "Amit Timalsina",
      "photoUrl": "https://lh3.googleusercontent.com/a-/AOh14GgempZZ7iJ_nUzQBQKA95czlIQZwhoq2bb1x5i5=s64",
      "userId": "08399804656288868898"
     },
     "user_tz": -345
    },
    "id": "eU684vs3XfWF",
    "outputId": "a29ceefc-cb58-4c70-c5e8-c288be909ee1"
   },
   "outputs": [],
   "source": [
    "plt.figure(1, figsize=(18, 18))\n",
    "sns.pairplot(df[['Age','Annual Income (k$)','Spending Score (1-100)','Gender']],hue='Gender',diag_kind=\"hist\", diag_kws={'bins': 20})\n",
    "plt.show()"
   ]
  },
  {
   "cell_type": "markdown",
   "id": "e8c1d57c",
   "metadata": {
    "id": "e8c1d57c"
   },
   "source": [
    "### **Count Plot of Gender**"
   ]
  },
  {
   "cell_type": "code",
   "execution_count": null,
   "id": "bdb6b064",
   "metadata": {
    "colab": {
     "base_uri": "https://localhost:8080/",
     "height": 392
    },
    "executionInfo": {
     "elapsed": 25,
     "status": "ok",
     "timestamp": 1623515530811,
     "user": {
      "displayName": "Amit Timalsina",
      "photoUrl": "https://lh3.googleusercontent.com/a-/AOh14GgempZZ7iJ_nUzQBQKA95czlIQZwhoq2bb1x5i5=s64",
      "userId": "08399804656288868898"
     },
     "user_tz": -345
    },
    "id": "bdb6b064",
    "outputId": "ec894e29-df6e-4cb8-9be6-f6ec56f87faa"
   },
   "outputs": [],
   "source": [
    "plt.figure(1, figsize=(12, 4))\n",
    "df['Gender'].value_counts().plot(kind='bar', cmap='Blues_r')\n",
    "plt.ylabel('Count', fontsize=12)\n",
    "plt.xlabel('Gender', fontsize=12)\n",
    "plt.xticks(rotation=0)\n",
    "plt.show()"
   ]
  },
  {
   "cell_type": "code",
   "execution_count": null,
   "id": "s6MjXL95dmIc",
   "metadata": {
    "colab": {
     "base_uri": "https://localhost:8080/",
     "height": 466
    },
    "executionInfo": {
     "elapsed": 1994,
     "status": "ok",
     "timestamp": 1623515532789,
     "user": {
      "displayName": "Amit Timalsina",
      "photoUrl": "https://lh3.googleusercontent.com/a-/AOh14GgempZZ7iJ_nUzQBQKA95czlIQZwhoq2bb1x5i5=s64",
      "userId": "08399804656288868898"
     },
     "user_tz": -345
    },
    "id": "s6MjXL95dmIc",
    "outputId": "68805668-ef46-4812-c0aa-5fbcaf5c4026"
   },
   "outputs": [],
   "source": [
    "sns.countplot(x='Gender',data=df)"
   ]
  },
  {
   "cell_type": "markdown",
   "id": "4091a8ab",
   "metadata": {
    "id": "4091a8ab"
   },
   "source": [
    "### **Looking for Correlations**"
   ]
  },
  {
   "cell_type": "markdown",
   "id": "96d81c2d",
   "metadata": {
    "id": "96d81c2d"
   },
   "source": [
    "Since the dataset is not too large, you can easily compute the standard correlation\n",
    "coefficient (also called Pearson’s r) between every pair of attributes using the corr()\n",
    "method:"
   ]
  },
  {
   "cell_type": "code",
   "execution_count": null,
   "id": "aa958e72",
   "metadata": {
    "colab": {
     "base_uri": "https://localhost:8080/",
     "height": 175
    },
    "executionInfo": {
     "elapsed": 47,
     "status": "ok",
     "timestamp": 1623515532792,
     "user": {
      "displayName": "Amit Timalsina",
      "photoUrl": "https://lh3.googleusercontent.com/a-/AOh14GgempZZ7iJ_nUzQBQKA95czlIQZwhoq2bb1x5i5=s64",
      "userId": "08399804656288868898"
     },
     "user_tz": -345
    },
    "id": "aa958e72",
    "outputId": "2df1ac3a-b160-4025-e57d-200a0d4dea93"
   },
   "outputs": [],
   "source": [
    "corr_matrix = df.corr()\n",
    "corr_matrix"
   ]
  },
  {
   "cell_type": "code",
   "execution_count": null,
   "id": "9a1986ed",
   "metadata": {
    "colab": {
     "base_uri": "https://localhost:8080/",
     "height": 857
    },
    "executionInfo": {
     "elapsed": 44,
     "status": "ok",
     "timestamp": 1623515532795,
     "user": {
      "displayName": "Amit Timalsina",
      "photoUrl": "https://lh3.googleusercontent.com/a-/AOh14GgempZZ7iJ_nUzQBQKA95czlIQZwhoq2bb1x5i5=s64",
      "userId": "08399804656288868898"
     },
     "user_tz": -345
    },
    "id": "9a1986ed",
    "outputId": "0c16a0c4-ac57-4b11-da48-545b281391b6"
   },
   "outputs": [],
   "source": [
    "from pandas.plotting import scatter_matrix\n",
    "\n",
    "attrbutes = df.columns[2:]\n",
    "scatter_matrix(df[attrbutes], figsize=(15, 10), alpha=0.8, marker='o', diagonal='hist', hist_kwds={'bins': 25})\n",
    "plt.show()"
   ]
  },
  {
   "cell_type": "code",
   "execution_count": null,
   "id": "Kql0r8PSgzgs",
   "metadata": {
    "colab": {
     "base_uri": "https://localhost:8080/",
     "height": 144
    },
    "executionInfo": {
     "elapsed": 34,
     "status": "ok",
     "timestamp": 1623515532798,
     "user": {
      "displayName": "Amit Timalsina",
      "photoUrl": "https://lh3.googleusercontent.com/a-/AOh14GgempZZ7iJ_nUzQBQKA95czlIQZwhoq2bb1x5i5=s64",
      "userId": "08399804656288868898"
     },
     "user_tz": -345
    },
    "id": "Kql0r8PSgzgs",
    "outputId": "2797205d-19d7-4c52-d528-f75b11deb7f7"
   },
   "outputs": [],
   "source": [
    "df[['Age','Annual Income (k$)','Spending Score (1-100)']].corr()"
   ]
  },
  {
   "cell_type": "code",
   "execution_count": null,
   "id": "UcgpFzDneVlW",
   "metadata": {
    "colab": {
     "base_uri": "https://localhost:8080/",
     "height": 602
    },
    "executionInfo": {
     "elapsed": 33,
     "status": "ok",
     "timestamp": 1623515532800,
     "user": {
      "displayName": "Amit Timalsina",
      "photoUrl": "https://lh3.googleusercontent.com/a-/AOh14GgempZZ7iJ_nUzQBQKA95czlIQZwhoq2bb1x5i5=s64",
      "userId": "08399804656288868898"
     },
     "user_tz": -345
    },
    "id": "UcgpFzDneVlW",
    "outputId": "aac65f0c-349c-44af-d5a4-4a01bbc627ef",
    "scrolled": false
   },
   "outputs": [],
   "source": [
    "sns.heatmap(df[['Age','Annual Income (k$)','Spending Score (1-100)']].corr())"
   ]
  },
  {
   "cell_type": "markdown",
   "id": "8a7c18b8",
   "metadata": {
    "id": "8a7c18b8"
   },
   "source": [
    "### **Ploting the Relation between Age , Annual Income and Spending Score**"
   ]
  },
  {
   "cell_type": "code",
   "execution_count": null,
   "id": "5baec5e5",
   "metadata": {
    "colab": {
     "base_uri": "https://localhost:8080/",
     "height": 564
    },
    "executionInfo": {
     "elapsed": 1891,
     "status": "ok",
     "timestamp": 1623515534665,
     "user": {
      "displayName": "Amit Timalsina",
      "photoUrl": "https://lh3.googleusercontent.com/a-/AOh14GgempZZ7iJ_nUzQBQKA95czlIQZwhoq2bb1x5i5=s64",
      "userId": "08399804656288868898"
     },
     "user_tz": -345
    },
    "id": "5baec5e5",
    "outputId": "412c78d3-beaa-4b7a-cbb8-c7f5be5a2f1a"
   },
   "outputs": [],
   "source": [
    "plt.figure(1, figsize=(15, 6))\n",
    "for gender in ['Male', 'Female']:\n",
    "    plt.scatter(x='Age', y='Annual Income (k$)', data=df[df['Gender'] == gender],\n",
    "               s=200, alpha=0.5, label=gender)\n",
    "plt.xlabel('Age')\n",
    "plt.ylabel('Annual Income (k$)')\n",
    "plt.title('Age vs Annual Income w.r.t Gender')\n",
    "plt.legend()\n",
    "plt.show()"
   ]
  },
  {
   "cell_type": "code",
   "execution_count": null,
   "id": "aec75618",
   "metadata": {
    "colab": {
     "base_uri": "https://localhost:8080/",
     "height": 564
    },
    "executionInfo": {
     "elapsed": 40,
     "status": "ok",
     "timestamp": 1623515534669,
     "user": {
      "displayName": "Amit Timalsina",
      "photoUrl": "https://lh3.googleusercontent.com/a-/AOh14GgempZZ7iJ_nUzQBQKA95czlIQZwhoq2bb1x5i5=s64",
      "userId": "08399804656288868898"
     },
     "user_tz": -345
    },
    "id": "aec75618",
    "outputId": "6c7eac89-df5c-4186-9cef-5342cf7f60ee"
   },
   "outputs": [],
   "source": [
    "plt.figure(1, figsize=(15, 6))\n",
    "for gender in ['Male', 'Female']:\n",
    "    plt.scatter(x='Annual Income (k$)', y='Spending Score (1-100)', data=df[df['Gender'] == gender],\n",
    "               s=200, alpha=0.5, label=gender)\n",
    "plt.xlabel('Annual Income (k$)')\n",
    "plt.ylabel('Spending Score (1-100)')\n",
    "plt.title('Annual Income vs Spending Score w.r.t Gender')\n",
    "plt.legend()\n",
    "plt.show()"
   ]
  },
  {
   "cell_type": "markdown",
   "id": "fd279c19",
   "metadata": {
    "id": "fd279c19"
   },
   "source": [
    "**Distribution of values in Age , Annual Income and Spending Score according to Gender**"
   ]
  },
  {
   "cell_type": "markdown",
   "id": "ZcXO62Ug7AHF",
   "metadata": {
    "id": "ZcXO62Ug7AHF"
   },
   "source": [
    "A boxplot is a standardized way of displaying the distribution of data based on a five number summary (“minimum”, first quartile (Q1), median, third quartile (Q3), and “maximum”). It can tell you about your outliers and what their values are. It can also tell you if your data is symmetrical, how tightly your data is grouped, and if and how your data is skewed."
   ]
  },
  {
   "cell_type": "code",
   "execution_count": null,
   "id": "8141935a",
   "metadata": {
    "colab": {
     "base_uri": "https://localhost:8080/",
     "height": 564
    },
    "executionInfo": {
     "elapsed": 34,
     "status": "ok",
     "timestamp": 1623515534673,
     "user": {
      "displayName": "Amit Timalsina",
      "photoUrl": "https://lh3.googleusercontent.com/a-/AOh14GgempZZ7iJ_nUzQBQKA95czlIQZwhoq2bb1x5i5=s64",
      "userId": "08399804656288868898"
     },
     "user_tz": -345
    },
    "id": "8141935a",
    "outputId": "68385f3d-ca9c-4a77-c5d5-c183c93b6328"
   },
   "outputs": [],
   "source": [
    "plt.figure(1, figsize=(15, 6))\n",
    "n = 0\n",
    "for cols in df.columns[2:]:\n",
    "    n += 1\n",
    "    plt.subplot(1, 3, n)\n",
    "    plt.subplots_adjust(hspace=0.5)\n",
    "    sns.boxplot(x = cols, y = 'Gender', data=df, palette='vlag')\n",
    "    sns.swarmplot(x = cols , y = 'Gender' , data = df)\n",
    "    plt.ylabel('Gender' if n == 1 else '')\n",
    "    plt.title('Boxplots & Swarmplots' if n == 2 else '')\n",
    "plt.show()"
   ]
  },
  {
   "cell_type": "code",
   "execution_count": null,
   "id": "EgJ4yF2i6yG-",
   "metadata": {
    "colab": {
     "base_uri": "https://localhost:8080/",
     "height": 564
    },
    "executionInfo": {
     "elapsed": 32,
     "status": "ok",
     "timestamp": 1623515534679,
     "user": {
      "displayName": "Amit Timalsina",
      "photoUrl": "https://lh3.googleusercontent.com/a-/AOh14GgempZZ7iJ_nUzQBQKA95czlIQZwhoq2bb1x5i5=s64",
      "userId": "08399804656288868898"
     },
     "user_tz": -345
    },
    "id": "EgJ4yF2i6yG-",
    "outputId": "573e7113-f6d4-45e7-cb44-771f8c61facc"
   },
   "outputs": [],
   "source": [
    "plt.figure(1, figsize=(15, 6))\n",
    "n = 0\n",
    "for cols in df.columns[2:]:\n",
    "    n += 1\n",
    "    plt.subplot(1, 3, n)\n",
    "    plt.subplots_adjust(hspace=0.5)\n",
    "    sns.violinplot(x = cols, y = 'Gender', data=df, palette='vlag')\n",
    "    sns.swarmplot(x = cols , y = 'Gender' , data = df)\n",
    "    plt.ylabel('Gender' if n == 1 else '')\n",
    "    plt.title('Boxplots & Swarmplots' if n == 2 else '')\n",
    "plt.show()"
   ]
  },
  {
   "cell_type": "markdown",
   "id": "P93N7QuC6uva",
   "metadata": {
    "id": "P93N7QuC6uva"
   },
   "source": [
    "[To know about boxplot in more detail.](https://towardsdatascience.com/understanding-boxplots-5e2df7bcbd51)"
   ]
  },
  {
   "cell_type": "markdown",
   "id": "45b1167c",
   "metadata": {
    "id": "45b1167c"
   },
   "source": [
    "## Clustering using KMeans"
   ]
  },
  {
   "cell_type": "markdown",
   "id": "bf2cc65e",
   "metadata": {
    "id": "bf2cc65e"
   },
   "source": [
    "#### **Segmentation using Age and Spending Score**"
   ]
  },
  {
   "cell_type": "markdown",
   "id": "dc94caa8",
   "metadata": {
    "id": "dc94caa8"
   },
   "source": [
    "Selecting n_clusters based on inertia(mean squared distance between each instance and it's closest centroid)"
   ]
  },
  {
   "cell_type": "markdown",
   "id": "bzFilKBCFKPG",
   "metadata": {
    "id": "bzFilKBCFKPG"
   },
   "source": [
    "[Visualize KMeans]()"
   ]
  },
  {
   "cell_type": "code",
   "execution_count": null,
   "id": "cbf8337e",
   "metadata": {},
   "outputs": [],
   "source": [
    "X = df[['Age', 'Spending Score (1-100)']].values\n",
    "inertias = []\n",
    "for n in range(1, 11):\n",
    "    kmeans = KMeans(n_clusters=n, algorithm='elkan', tol=1e-4, random_state=42)\n",
    "    kmeans.fit(X)\n",
    "    inertias.append(kmeans.inertia_)"
   ]
  },
  {
   "cell_type": "code",
   "execution_count": null,
   "id": "8d7b401a",
   "metadata": {
    "colab": {
     "base_uri": "https://localhost:8080/",
     "height": 542
    },
    "executionInfo": {
     "elapsed": 29,
     "status": "ok",
     "timestamp": 1623515536145,
     "user": {
      "displayName": "Amit Timalsina",
      "photoUrl": "https://lh3.googleusercontent.com/a-/AOh14GgempZZ7iJ_nUzQBQKA95czlIQZwhoq2bb1x5i5=s64",
      "userId": "08399804656288868898"
     },
     "user_tz": -345
    },
    "id": "8d7b401a",
    "outputId": "15e5f6f7-26d2-4ede-b8a9-fcf0f12ae894"
   },
   "outputs": [],
   "source": [
    "plt.figure(1, figsize=(15, 6))\n",
    "plt.plot(range(1, 11), inertias, 'go-')\n",
    "plt.xlabel('Number of clusters')\n",
    "plt.ylabel('Inertia')\n",
    "plt.show()"
   ]
  },
  {
   "cell_type": "code",
   "execution_count": null,
   "id": "5c3e6fc2",
   "metadata": {
    "colab": {
     "base_uri": "https://localhost:8080/"
    },
    "executionInfo": {
     "elapsed": 27,
     "status": "ok",
     "timestamp": 1623515536147,
     "user": {
      "displayName": "Amit Timalsina",
      "photoUrl": "https://lh3.googleusercontent.com/a-/AOh14GgempZZ7iJ_nUzQBQKA95czlIQZwhoq2bb1x5i5=s64",
      "userId": "08399804656288868898"
     },
     "user_tz": -345
    },
    "id": "5c3e6fc2",
    "outputId": "e4036d1a-7b33-4915-d53c-f116c8ec3a78"
   },
   "outputs": [],
   "source": [
    "kmeans = KMeans(n_clusters=4, algorithm='elkan', tol=1e-4, random_state=42)\n",
    "kmeans.fit(X)"
   ]
  },
  {
   "cell_type": "code",
   "execution_count": null,
   "id": "214091b4",
   "metadata": {
    "executionInfo": {
     "elapsed": 24,
     "status": "ok",
     "timestamp": 1623515536149,
     "user": {
      "displayName": "Amit Timalsina",
      "photoUrl": "https://lh3.googleusercontent.com/a-/AOh14GgempZZ7iJ_nUzQBQKA95czlIQZwhoq2bb1x5i5=s64",
      "userId": "08399804656288868898"
     },
     "user_tz": -345
    },
    "id": "214091b4"
   },
   "outputs": [],
   "source": [
    "def plot_data(X):\n",
    "    plt.plot(X[:, 0], X[:, 1], 'ko', markersize=5)\n",
    "\n",
    "def plot_centroids(centroids, circle_color='r', cross_color='w'):\n",
    "    plt.scatter(centroids[:, 0], centroids[:, 1],\n",
    "                marker='o', s=35, linewidths=8, \n",
    "                color=circle_color, zorder=10, alpha=0.9)\n",
    "    plt.scatter(centroids[:, 0], centroids[:, 1],\n",
    "                marker='x', s=2, linewidths=12,\n",
    "                color=cross_color, zorder=11, alpha=1)\n",
    "\n",
    "def plot_decision_boundaries(clusterer, X, resolution=1000, show_centroids=True,\n",
    "                            show_xlabels=True, show_ylabels=True):\n",
    "    mins = X.min(axis=0) - 0.1\n",
    "    maxs = X.max(axis=0) + 0.1\n",
    "    xx, yy = np.meshgrid(np.linspace(mins[0], maxs[0], resolution), np.linspace(mins[1], maxs[1], resolution))\n",
    "    Z = clusterer.predict(np.c_[xx.ravel(), yy.ravel()]).reshape(xx.shape)\n",
    "    plt.contourf(Z, extent=(mins[0],  maxs[0], mins[1], maxs[1]), cmap='Pastel2')\n",
    "    plt.contour(Z, extent=(mins[0], maxs[0], mins[1], maxs[1]),\n",
    "                linewidths=1, colors='k')\n",
    "    plot_data(X)\n",
    "    if show_centroids:\n",
    "        plot_centroids(clusterer.cluster_centers_)\n",
    "    \n",
    "    if show_xlabels:\n",
    "        plt.xlabel('Age')\n",
    "    \n",
    "    if show_ylabels:\n",
    "        plt.ylabel('Spending Score (1-100)')"
   ]
  },
  {
   "cell_type": "code",
   "execution_count": null,
   "id": "2c37a3aa",
   "metadata": {
    "colab": {
     "base_uri": "https://localhost:8080/",
     "height": 542
    },
    "executionInfo": {
     "elapsed": 22,
     "status": "ok",
     "timestamp": 1623515536150,
     "user": {
      "displayName": "Amit Timalsina",
      "photoUrl": "https://lh3.googleusercontent.com/a-/AOh14GgempZZ7iJ_nUzQBQKA95czlIQZwhoq2bb1x5i5=s64",
      "userId": "08399804656288868898"
     },
     "user_tz": -345
    },
    "id": "2c37a3aa",
    "outputId": "1a48f607-d6d8-428f-d991-a12f9ef1d925"
   },
   "outputs": [],
   "source": [
    "plt.figure(1, figsize=(15, 6))\n",
    "plot_decision_boundaries(kmeans, X)\n",
    "plt.show()"
   ]
  },
  {
   "cell_type": "markdown",
   "id": "7a2ac69a",
   "metadata": {
    "id": "7a2ac69a"
   },
   "source": [
    "#### **Segmentation using Annual Income and Spending Score**"
   ]
  },
  {
   "cell_type": "code",
   "execution_count": null,
   "id": "28032e41",
   "metadata": {
    "executionInfo": {
     "elapsed": 1564,
     "status": "ok",
     "timestamp": 1623515537695,
     "user": {
      "displayName": "Amit Timalsina",
      "photoUrl": "https://lh3.googleusercontent.com/a-/AOh14GgempZZ7iJ_nUzQBQKA95czlIQZwhoq2bb1x5i5=s64",
      "userId": "08399804656288868898"
     },
     "user_tz": -345
    },
    "id": "28032e41"
   },
   "outputs": [],
   "source": [
    "X = df[['Annual Income (k$)', 'Spending Score (1-100)']].values\n",
    "inertias = []\n",
    "for n in range(1, 11):\n",
    "    kmeans = KMeans(n_clusters=n, algorithm='elkan', tol=1e-4, random_state=42)\n",
    "    kmeans.fit(X)\n",
    "    inertias.append(kmeans.inertia_)"
   ]
  },
  {
   "cell_type": "code",
   "execution_count": null,
   "id": "a2cead5b",
   "metadata": {
    "colab": {
     "base_uri": "https://localhost:8080/",
     "height": 542
    },
    "executionInfo": {
     "elapsed": 39,
     "status": "ok",
     "timestamp": 1623515537701,
     "user": {
      "displayName": "Amit Timalsina",
      "photoUrl": "https://lh3.googleusercontent.com/a-/AOh14GgempZZ7iJ_nUzQBQKA95czlIQZwhoq2bb1x5i5=s64",
      "userId": "08399804656288868898"
     },
     "user_tz": -345
    },
    "id": "a2cead5b",
    "outputId": "326d0fdb-5851-41db-a9c4-155ca6554bf8"
   },
   "outputs": [],
   "source": [
    "plt.figure(1, figsize=(15, 6))\n",
    "plt.plot(range(1, 11), inertias, 'go-')\n",
    "plt.xlabel('Number of clusters')\n",
    "plt.ylabel('Inertia')\n",
    "plt.show()"
   ]
  },
  {
   "cell_type": "code",
   "execution_count": null,
   "id": "8115b68a",
   "metadata": {
    "colab": {
     "base_uri": "https://localhost:8080/",
     "height": 542
    },
    "executionInfo": {
     "elapsed": 33,
     "status": "ok",
     "timestamp": 1623515537702,
     "user": {
      "displayName": "Amit Timalsina",
      "photoUrl": "https://lh3.googleusercontent.com/a-/AOh14GgempZZ7iJ_nUzQBQKA95czlIQZwhoq2bb1x5i5=s64",
      "userId": "08399804656288868898"
     },
     "user_tz": -345
    },
    "id": "8115b68a",
    "outputId": "862285f2-615a-42d9-b6da-f8f079cc3fe8"
   },
   "outputs": [],
   "source": [
    "kmeans = KMeans(n_clusters=5, algorithm='elkan', tol=1e-4, random_state=42)\n",
    "kmeans.fit(X)\n",
    "plt.figure(1, figsize=(15, 6))\n",
    "plot_decision_boundaries(kmeans, X)\n",
    "plt.show()"
   ]
  }
 ],
 "metadata": {
  "colab": {
   "name": "Customer Segmentation - Lab of Clustering.ipynb",
   "provenance": []
  },
  "kernelspec": {
   "display_name": "Python 3",
   "language": "python",
   "name": "python3"
  },
  "language_info": {
   "codemirror_mode": {
    "name": "ipython",
    "version": 3
   },
   "file_extension": ".py",
   "mimetype": "text/x-python",
   "name": "python",
   "nbconvert_exporter": "python",
   "pygments_lexer": "ipython3",
   "version": "3.7.10"
  }
 },
 "nbformat": 4,
 "nbformat_minor": 5
}
